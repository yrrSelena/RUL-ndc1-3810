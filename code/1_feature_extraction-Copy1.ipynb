{
 "cells": [
  {
   "cell_type": "markdown",
   "metadata": {},
   "source": [
    "# 特征提取\n",
    "计算单次操作中的燃弧相角、时长、能量、电量、功率（由于后期样本发生劣化，燃弧时间偏长，因此只取前期样本）\n",
    "- 燃弧相角：\n",
    "- 燃弧时长(arcing_duration)：$t$ \n",
    "- 燃弧能量(arcing_energy)：$\\int i(t)u(t)dt$\n",
    "- 燃弧电量(arcing_electricity)：$\\int i(t)^2dt$\n",
    "- 燃弧功率(arcing_power)：$\\frac{\\int i(t)u(t)dt}{t}$"
   ]
  },
  {
   "cell_type": "code",
   "execution_count": 1,
   "metadata": {},
   "outputs": [],
   "source": [
    "import re\n",
    "import os\n",
    "import time\n",
    "import csv\n",
    "import math\n",
    "import pickle\n",
    "import pandas as pd\n",
    "import numpy as np\n",
    "import matplotlib.pyplot as plt\n",
    "\n",
    "import myUtils"
   ]
  },
  {
   "cell_type": "markdown",
   "metadata": {},
   "source": [
    "### 2.0 参数设置"
   ]
  },
  {
   "cell_type": "code",
   "execution_count": 2,
   "metadata": {},
   "outputs": [
    {
     "name": "stdout",
     "output_type": "stream",
     "text": [
      "['1.pkl', '10.pkl', '2.pkl', '3.pkl', '4.pkl', '5.pkl', '6.pkl', '7.pkl', '8.pkl', '9.pkl']\n"
     ]
    }
   ],
   "source": [
    "root_data_path = '../data/'\n",
    "processed_data_path = root_data_path + '1_processed_data/'\n",
    "src_data_path = processed_data_path + '2_smoothed_data/'\n",
    "src_machine_files =os.listdir(src_data_path)\n",
    "print(src_machine_files)"
   ]
  },
  {
   "cell_type": "code",
   "execution_count": 3,
   "metadata": {},
   "outputs": [],
   "source": [
    "# 常数定义\n",
    "CONST_PARAMS_DICT = {\n",
    "    'frequency': 1 / 200, #频率\n",
    "    'U_amplitude': 421 / np.sqrt(3) * np.sqrt(2), #424,\n",
    "    'I_amplitude': 228,\n",
    "    'U_eps': 5,\n",
    "    'I_eps': 5,\n",
    "    'three_phase': ['A','B','C']\n",
    "}"
   ]
  },
  {
   "cell_type": "markdown",
   "metadata": {},
   "source": [
    "### 2.1 数据分段"
   ]
  },
  {
   "cell_type": "markdown",
   "metadata": {},
   "source": [
    "#### 拟合正弦函数"
   ]
  },
  {
   "cell_type": "code",
   "execution_count": 4,
   "metadata": {},
   "outputs": [],
   "source": [
    "from scipy.optimize import leastsq\n",
    "import warnings\n",
    "# 根据x和参数输出sin函数值\n",
    "def calSinByParams(x, params):\n",
    "    A, f, theta_x, theta_y = params \n",
    "    return A * np.sin(2 * np.pi * f * x + theta_x) + theta_y\n",
    "\n",
    "def calFittingResidual(params, x, y_real):\n",
    "    return y_real - calSinByParams(x, params)\n",
    "\n",
    "def getOptFittingParams(data):\n",
    "    '''\n",
    "    params_init:初始化拟合参数 \n",
    "        params_init[0]: A 振幅\n",
    "        params_init[1]: f 频率\n",
    "        params_init[2]: theta_x 偏移\n",
    "        params_init[3]: theta_y \n",
    "    '''\n",
    "\n",
    "    # 待拟合数据\n",
    "    X = np.arange(len(data))\n",
    "    Y = np.array(data)\n",
    "    \n",
    "    # 初始化参数\n",
    "    Y_sorted = sorted(Y)\n",
    "    n = min(int(len(Y)/100), 10)\n",
    "    A = (np.mean(Y_sorted[-n:]) - np.mean(Y_sorted[:n])) / 2\n",
    "    \n",
    "    params_init = [A, CONST_PARAMS_DICT['frequency'], 0, 0]\n",
    "    \n",
    "    # 最小二乘得到拟合最优解\n",
    "    #params = [params_init['amplitude'], params_init['frequency'], params_init['theta_x'], params_init['theta_y']]\n",
    "    \n",
    "    with warnings.catch_warnings():\n",
    "        try:\n",
    "            params_opt, _ = leastsq(calFittingResidual, params_init, args = (X, Y), maxfev=5000)\n",
    "        except Warning as e:\n",
    "            print(e)\n",
    "            params_opt = params_init\n",
    "    \n",
    "    return params_opt"
   ]
  },
  {
   "cell_type": "markdown",
   "metadata": {},
   "source": [
    "#### 计算燃弧范围"
   ]
  },
  {
   "cell_type": "code",
   "execution_count": 5,
   "metadata": {},
   "outputs": [],
   "source": [
    "def findArcingRange(U_data, I_data):\n",
    "    \"\"\"\n",
    "    计算燃弧区间\n",
    "    \n",
    "    Args:\n",
    "        U_data: 单次操作的电压数据\n",
    "        I_data: 单次操作的电流数据\n",
    "    \n",
    "    Returns:\n",
    "        arcing_range: arcing_range[0] = arcing_start：燃弧开始位置\n",
    "                      arcing_range[1] = arcing_end：  燃弧结束位置\n",
    "    \"\"\"\n",
    "    \n",
    "    # 0. 初始化燃弧范围\n",
    "    arcing_range = [-1, -1]\n",
    "    \n",
    "    n_points = 10\n",
    "    data_len = len(U_data)\n",
    "    \n",
    "    # 1.确定燃弧结束位置：电流为0时表示燃弧结束（结束点后n_points对应的电流均小于电流阈值，结束点前n_points对应的电流均大于电流阈值）\n",
    "    for i in range(data_len - n_points - 1, n_points, -1):\n",
    "        #判断条件一、在[i - n_points,i]时刻内的电流是否大于0  \n",
    "        n_Ii_larger_than_0 = 0\n",
    "        for Ii in I_data[i - n_points : i]:\n",
    "            if np.abs(Ii) > CONST_PARAMS_DICT['I_eps']:\n",
    "                n_Ii_larger_than_0 += 1\n",
    "        \n",
    "        #判断条件二、在[i + 1, i + n_points]时刻内的电流是否接近0\n",
    "        n_Ii_equals_0 = 0\n",
    "        for Ii in I_data[i + 1: i + n_points]:\n",
    "            if np.abs(Ii) < CONST_PARAMS_DICT['I_eps']:\n",
    "                n_Ii_equals_0 += 1\n",
    "        \n",
    "        #若以上两个条件基本满足，则说明找到燃弧结束位置\n",
    "        if n_Ii_larger_than_0 > n_points - 3 and n_Ii_equals_0 > n_points - 3:\n",
    "            arcing_range[1] = i\n",
    "            break\n",
    "        \n",
    "        \n",
    "    # 2.确定燃弧开始位置\n",
    "    \n",
    "    # 方式一、根据残差确定燃弧开始位置，稳态时残差较小，而燃弧时残差较大\n",
    "    # 截取部分合闸稳态数据，拟合得到稳态时的电压正弦波形\n",
    "    end_loc = arcing_range[1] - int(1 / CONST_PARAMS_DICT['frequency'] * 5)\n",
    "    start_loc = end_loc - int(1 / CONST_PARAMS_DICT['frequency'] * 3)\n",
    "    U_part = np.array(U_data[start_loc : end_loc])\n",
    "    params_U_close = getOptFittingParams(U_part)\n",
    "    \n",
    "    # 计算拟合的电压与原始数据的残差\n",
    "    U_real = np.array(U_data[start_loc : arcing_range[1]])\n",
    "    U_pred = calSinByParams(np.arange(len(U_real)), params_U_close)\n",
    "    U_residual = np.abs(U_real - U_pred)\n",
    "    \n",
    "    # 判断在[i - n_points : i]时刻内的电压残差是否接近0\n",
    "    arcing_range[0] = arcing_range[1]\n",
    "    for i in range(len(U_residual) - 1, n_points - 1, -1):\n",
    "        if U_residual[i] < CONST_PARAMS_DICT['U_eps']:\n",
    "            n_U_residual_equals_0 = 0\n",
    "            for u_residual in U_residual[i - n_points : i]:\n",
    "                if u_residual < CONST_PARAMS_DICT['U_eps']:\n",
    "                    n_U_residual_equals_0 += 1\n",
    "             \n",
    "            if n_U_residual_equals_0 > n_points -3:\n",
    "                arcing_range[0] = start_loc + i\n",
    "                break\n",
    "            \n",
    "            \n",
    "    ''' \n",
    "    # 方式二、根据实际电压是否超过阈值判断\n",
    "    for i in range(arcing_range[1], n_points, -1):\n",
    "        if np.abs(U_data[i]) <= np.abs(params_U_close[0]):#CONST_PARAMS_DICT['U_eps']:\n",
    "            # 判断条件一、在[i-n_point, i]时刻内的电压是否都小于电压阈值\n",
    "            n_Ui_equals_0 = 0\n",
    "            for Ui in U_data[i - n_points : i]:\n",
    "                if np.abs(Ui) <= np.abs(params_U_close[0]):#< CONST_PARAMS_DICT['U_eps']:\n",
    "                    n_Ui_equals_0 += 1\n",
    "             \n",
    "            if n_Ui_equals_0 > n_points / 2:\n",
    "                arcing_range[0] = i\n",
    "                break\n",
    "    '''          \n",
    "    return arcing_range"
   ]
  },
  {
   "cell_type": "markdown",
   "metadata": {},
   "source": [
    "#### 绘制燃弧区间示意图"
   ]
  },
  {
   "cell_type": "code",
   "execution_count": 6,
   "metadata": {},
   "outputs": [
    {
     "name": "stdout",
     "output_type": "stream",
     "text": [
      "../data/2_features/2_arcing_range_fig/ already exist.\n"
     ]
    }
   ],
   "source": [
    "feature_path = root_data_path + '2_features/'\n",
    "arcing_range_fig_path = feature_path + '2_arcing_range_fig/'\n",
    "myUtils.makedirs(arcing_range_fig_path)"
   ]
  },
  {
   "cell_type": "code",
   "execution_count": 29,
   "metadata": {},
   "outputs": [
    {
     "name": "stdout",
     "output_type": "stream",
     "text": [
      "4.pkl 186\n",
      "0\n",
      "../data/2_features/2_arcing_range_fig/4/A/ already exist.\n",
      "[6216, 6285]\n",
      "../data/2_features/2_arcing_range_fig/4/B/ already exist.\n",
      "[6220, 6285]\n",
      "../data/2_features/2_arcing_range_fig/4/C/ already exist.\n",
      "[6225, 6245]\n",
      "../data/2_features/2_arcing_range_fig/4/A/ already exist.\n",
      "[6309, 6384]\n",
      "../data/2_features/2_arcing_range_fig/4/B/ already exist.\n",
      "[6314, 6342]\n",
      "../data/2_features/2_arcing_range_fig/4/C/ already exist.\n",
      "[6318, 6384]\n",
      "../data/2_features/2_arcing_range_fig/4/A/ already exist.\n",
      "[6311, 6341]\n",
      "../data/2_features/2_arcing_range_fig/4/B/ already exist.\n"
     ]
    },
    {
     "ename": "KeyboardInterrupt",
     "evalue": "",
     "output_type": "error",
     "traceback": [
      "\u001b[1;31m---------------------------------------------------------------------------\u001b[0m",
      "\u001b[1;31mKeyboardInterrupt\u001b[0m                         Traceback (most recent call last)",
      "\u001b[1;32m<ipython-input-29-0c147cc86a2d>\u001b[0m in \u001b[0;36m<module>\u001b[1;34m\u001b[0m\n\u001b[0;32m     20\u001b[0m             \u001b[0mU_data\u001b[0m \u001b[1;33m=\u001b[0m \u001b[0moperation_data_list\u001b[0m\u001b[1;33m[\u001b[0m\u001b[0mi\u001b[0m\u001b[1;33m]\u001b[0m\u001b[1;33m[\u001b[0m\u001b[1;34m'U'\u001b[0m \u001b[1;33m+\u001b[0m \u001b[0mphase\u001b[0m\u001b[1;33m]\u001b[0m\u001b[1;33m\u001b[0m\u001b[1;33m\u001b[0m\u001b[0m\n\u001b[0;32m     21\u001b[0m             \u001b[0mI_data\u001b[0m \u001b[1;33m=\u001b[0m \u001b[0moperation_data_list\u001b[0m\u001b[1;33m[\u001b[0m\u001b[0mi\u001b[0m\u001b[1;33m]\u001b[0m\u001b[1;33m[\u001b[0m\u001b[1;34m'I'\u001b[0m \u001b[1;33m+\u001b[0m \u001b[0mphase\u001b[0m\u001b[1;33m]\u001b[0m\u001b[1;33m\u001b[0m\u001b[1;33m\u001b[0m\u001b[0m\n\u001b[1;32m---> 22\u001b[1;33m             \u001b[0marcing_range\u001b[0m \u001b[1;33m=\u001b[0m \u001b[0mfindArcingRange\u001b[0m\u001b[1;33m(\u001b[0m\u001b[0mU_data\u001b[0m\u001b[1;33m,\u001b[0m \u001b[0mI_data\u001b[0m\u001b[1;33m)\u001b[0m\u001b[1;33m\u001b[0m\u001b[1;33m\u001b[0m\u001b[0m\n\u001b[0m\u001b[0;32m     23\u001b[0m             \u001b[0mprint\u001b[0m\u001b[1;33m(\u001b[0m\u001b[0marcing_range\u001b[0m\u001b[1;33m)\u001b[0m\u001b[1;33m\u001b[0m\u001b[1;33m\u001b[0m\u001b[0m\n\u001b[0;32m     24\u001b[0m             \u001b[1;32mcontinue\u001b[0m\u001b[1;33m\u001b[0m\u001b[1;33m\u001b[0m\u001b[0m\n",
      "\u001b[1;32m<ipython-input-5-e19a57efa875>\u001b[0m in \u001b[0;36mfindArcingRange\u001b[1;34m(U_data, I_data)\u001b[0m\n\u001b[0;32m     22\u001b[0m         \u001b[1;31m#判断条件一、在[i - n_points,i]时刻内的电流是否大于0\u001b[0m\u001b[1;33m\u001b[0m\u001b[1;33m\u001b[0m\u001b[1;33m\u001b[0m\u001b[0m\n\u001b[0;32m     23\u001b[0m         \u001b[0mn_Ii_larger_than_0\u001b[0m \u001b[1;33m=\u001b[0m \u001b[1;36m0\u001b[0m\u001b[1;33m\u001b[0m\u001b[1;33m\u001b[0m\u001b[0m\n\u001b[1;32m---> 24\u001b[1;33m         \u001b[1;32mfor\u001b[0m \u001b[0mIi\u001b[0m \u001b[1;32min\u001b[0m \u001b[0mI_data\u001b[0m\u001b[1;33m[\u001b[0m\u001b[0mi\u001b[0m \u001b[1;33m-\u001b[0m \u001b[0mn_points\u001b[0m \u001b[1;33m:\u001b[0m \u001b[0mi\u001b[0m\u001b[1;33m]\u001b[0m\u001b[1;33m:\u001b[0m\u001b[1;33m\u001b[0m\u001b[1;33m\u001b[0m\u001b[0m\n\u001b[0m\u001b[0;32m     25\u001b[0m             \u001b[1;32mif\u001b[0m \u001b[0mnp\u001b[0m\u001b[1;33m.\u001b[0m\u001b[0mabs\u001b[0m\u001b[1;33m(\u001b[0m\u001b[0mIi\u001b[0m\u001b[1;33m)\u001b[0m \u001b[1;33m>\u001b[0m \u001b[0mCONST_PARAMS_DICT\u001b[0m\u001b[1;33m[\u001b[0m\u001b[1;34m'I_eps'\u001b[0m\u001b[1;33m]\u001b[0m\u001b[1;33m:\u001b[0m\u001b[1;33m\u001b[0m\u001b[1;33m\u001b[0m\u001b[0m\n\u001b[0;32m     26\u001b[0m                 \u001b[0mn_Ii_larger_than_0\u001b[0m \u001b[1;33m+=\u001b[0m \u001b[1;36m1\u001b[0m\u001b[1;33m\u001b[0m\u001b[1;33m\u001b[0m\u001b[0m\n",
      "\u001b[1;32mD:\\Env\\Anaconda3\\lib\\site-packages\\pandas\\core\\series.py\u001b[0m in \u001b[0;36m__getitem__\u001b[1;34m(self, key)\u001b[0m\n\u001b[0;32m    866\u001b[0m         \u001b[0mkey\u001b[0m \u001b[1;33m=\u001b[0m \u001b[0mcom\u001b[0m\u001b[1;33m.\u001b[0m\u001b[0mapply_if_callable\u001b[0m\u001b[1;33m(\u001b[0m\u001b[0mkey\u001b[0m\u001b[1;33m,\u001b[0m \u001b[0mself\u001b[0m\u001b[1;33m)\u001b[0m\u001b[1;33m\u001b[0m\u001b[1;33m\u001b[0m\u001b[0m\n\u001b[0;32m    867\u001b[0m         \u001b[1;32mtry\u001b[0m\u001b[1;33m:\u001b[0m\u001b[1;33m\u001b[0m\u001b[1;33m\u001b[0m\u001b[0m\n\u001b[1;32m--> 868\u001b[1;33m             \u001b[0mresult\u001b[0m \u001b[1;33m=\u001b[0m \u001b[0mself\u001b[0m\u001b[1;33m.\u001b[0m\u001b[0mindex\u001b[0m\u001b[1;33m.\u001b[0m\u001b[0mget_value\u001b[0m\u001b[1;33m(\u001b[0m\u001b[0mself\u001b[0m\u001b[1;33m,\u001b[0m \u001b[0mkey\u001b[0m\u001b[1;33m)\u001b[0m\u001b[1;33m\u001b[0m\u001b[1;33m\u001b[0m\u001b[0m\n\u001b[0m\u001b[0;32m    869\u001b[0m \u001b[1;33m\u001b[0m\u001b[0m\n\u001b[0;32m    870\u001b[0m             \u001b[1;32mif\u001b[0m \u001b[1;32mnot\u001b[0m \u001b[0mis_scalar\u001b[0m\u001b[1;33m(\u001b[0m\u001b[0mresult\u001b[0m\u001b[1;33m)\u001b[0m\u001b[1;33m:\u001b[0m\u001b[1;33m\u001b[0m\u001b[1;33m\u001b[0m\u001b[0m\n",
      "\u001b[1;32mD:\\Env\\Anaconda3\\lib\\site-packages\\pandas\\core\\indexes\\base.py\u001b[0m in \u001b[0;36mget_value\u001b[1;34m(self, series, key)\u001b[0m\n\u001b[0;32m   4367\u001b[0m                     \u001b[1;32mreturn\u001b[0m \u001b[0ms\u001b[0m\u001b[1;33m[\u001b[0m\u001b[0mkey\u001b[0m\u001b[1;33m]\u001b[0m\u001b[1;33m\u001b[0m\u001b[1;33m\u001b[0m\u001b[0m\n\u001b[0;32m   4368\u001b[0m \u001b[1;33m\u001b[0m\u001b[0m\n\u001b[1;32m-> 4369\u001b[1;33m         \u001b[0ms\u001b[0m \u001b[1;33m=\u001b[0m \u001b[0mcom\u001b[0m\u001b[1;33m.\u001b[0m\u001b[0mvalues_from_object\u001b[0m\u001b[1;33m(\u001b[0m\u001b[0mseries\u001b[0m\u001b[1;33m)\u001b[0m\u001b[1;33m\u001b[0m\u001b[1;33m\u001b[0m\u001b[0m\n\u001b[0m\u001b[0;32m   4370\u001b[0m         \u001b[0mk\u001b[0m \u001b[1;33m=\u001b[0m \u001b[0mcom\u001b[0m\u001b[1;33m.\u001b[0m\u001b[0mvalues_from_object\u001b[0m\u001b[1;33m(\u001b[0m\u001b[0mkey\u001b[0m\u001b[1;33m)\u001b[0m\u001b[1;33m\u001b[0m\u001b[1;33m\u001b[0m\u001b[0m\n\u001b[0;32m   4371\u001b[0m \u001b[1;33m\u001b[0m\u001b[0m\n",
      "\u001b[1;32mpandas/_libs/lib.pyx\u001b[0m in \u001b[0;36mpandas._libs.lib.values_from_object\u001b[1;34m()\u001b[0m\n",
      "\u001b[1;32mD:\\Env\\Anaconda3\\lib\\site-packages\\pandas\\core\\series.py\u001b[0m in \u001b[0;36mget_values\u001b[1;34m(self)\u001b[0m\n\u001b[0;32m    492\u001b[0m         \u001b[0mSame\u001b[0m \u001b[1;32mas\u001b[0m \u001b[0mvalues\u001b[0m \u001b[1;33m(\u001b[0m\u001b[0mbut\u001b[0m \u001b[0mhandles\u001b[0m \u001b[0msparseness\u001b[0m \u001b[0mconversions\u001b[0m\u001b[1;33m)\u001b[0m\u001b[1;33m;\u001b[0m \u001b[1;32mis\u001b[0m \u001b[0ma\u001b[0m \u001b[0mview\u001b[0m\u001b[1;33m.\u001b[0m\u001b[1;33m\u001b[0m\u001b[1;33m\u001b[0m\u001b[0m\n\u001b[0;32m    493\u001b[0m         \"\"\"\n\u001b[1;32m--> 494\u001b[1;33m         \u001b[1;32mreturn\u001b[0m \u001b[0mself\u001b[0m\u001b[1;33m.\u001b[0m\u001b[0m_data\u001b[0m\u001b[1;33m.\u001b[0m\u001b[0mget_values\u001b[0m\u001b[1;33m(\u001b[0m\u001b[1;33m)\u001b[0m\u001b[1;33m\u001b[0m\u001b[1;33m\u001b[0m\u001b[0m\n\u001b[0m\u001b[0;32m    495\u001b[0m \u001b[1;33m\u001b[0m\u001b[0m\n\u001b[0;32m    496\u001b[0m     \u001b[1;33m@\u001b[0m\u001b[0mproperty\u001b[0m\u001b[1;33m\u001b[0m\u001b[1;33m\u001b[0m\u001b[0m\n",
      "\u001b[1;32mD:\\Env\\Anaconda3\\lib\\site-packages\\pandas\\core\\internals\\managers.py\u001b[0m in \u001b[0;36mget_values\u001b[1;34m(self)\u001b[0m\n\u001b[0;32m   1556\u001b[0m     \u001b[1;32mdef\u001b[0m \u001b[0mget_values\u001b[0m\u001b[1;33m(\u001b[0m\u001b[0mself\u001b[0m\u001b[1;33m)\u001b[0m\u001b[1;33m:\u001b[0m\u001b[1;33m\u001b[0m\u001b[1;33m\u001b[0m\u001b[0m\n\u001b[0;32m   1557\u001b[0m         \u001b[1;34m\"\"\" return a dense type view \"\"\"\u001b[0m\u001b[1;33m\u001b[0m\u001b[1;33m\u001b[0m\u001b[0m\n\u001b[1;32m-> 1558\u001b[1;33m         \u001b[1;32mreturn\u001b[0m \u001b[0mnp\u001b[0m\u001b[1;33m.\u001b[0m\u001b[0marray\u001b[0m\u001b[1;33m(\u001b[0m\u001b[0mself\u001b[0m\u001b[1;33m.\u001b[0m\u001b[0m_block\u001b[0m\u001b[1;33m.\u001b[0m\u001b[0mto_dense\u001b[0m\u001b[1;33m(\u001b[0m\u001b[1;33m)\u001b[0m\u001b[1;33m,\u001b[0m \u001b[0mcopy\u001b[0m\u001b[1;33m=\u001b[0m\u001b[1;32mFalse\u001b[0m\u001b[1;33m)\u001b[0m\u001b[1;33m\u001b[0m\u001b[1;33m\u001b[0m\u001b[0m\n\u001b[0m\u001b[0;32m   1559\u001b[0m \u001b[1;33m\u001b[0m\u001b[0m\n\u001b[0;32m   1560\u001b[0m     \u001b[1;33m@\u001b[0m\u001b[0mproperty\u001b[0m\u001b[1;33m\u001b[0m\u001b[1;33m\u001b[0m\u001b[0m\n",
      "\u001b[1;31mKeyboardInterrupt\u001b[0m: "
     ]
    },
    {
     "data": {
      "text/plain": [
       "<Figure size 1800x720 with 0 Axes>"
      ]
     },
     "metadata": {},
     "output_type": "display_data"
    },
    {
     "data": {
      "text/plain": [
       "<Figure size 1800x720 with 0 Axes>"
      ]
     },
     "metadata": {},
     "output_type": "display_data"
    },
    {
     "data": {
      "text/plain": [
       "<Figure size 1800x720 with 0 Axes>"
      ]
     },
     "metadata": {},
     "output_type": "display_data"
    },
    {
     "data": {
      "text/plain": [
       "<Figure size 1800x720 with 0 Axes>"
      ]
     },
     "metadata": {},
     "output_type": "display_data"
    },
    {
     "data": {
      "text/plain": [
       "<Figure size 1800x720 with 0 Axes>"
      ]
     },
     "metadata": {},
     "output_type": "display_data"
    },
    {
     "data": {
      "text/plain": [
       "<Figure size 1800x720 with 0 Axes>"
      ]
     },
     "metadata": {},
     "output_type": "display_data"
    },
    {
     "data": {
      "text/plain": [
       "<Figure size 1800x720 with 0 Axes>"
      ]
     },
     "metadata": {},
     "output_type": "display_data"
    },
    {
     "data": {
      "text/plain": [
       "<Figure size 1800x720 with 0 Axes>"
      ]
     },
     "metadata": {},
     "output_type": "display_data"
    }
   ],
   "source": [
    "# 单相图片存储\n",
    "for tmp_file in [src_machine_files[4]]:#src_machine_files:\n",
    "    pkl_file = open(src_data_path + tmp_file, 'rb')\n",
    "    #print(pkl_file)\n",
    "    operation_data_list = pickle.load(pkl_file)\n",
    "    pkl_file.close()\n",
    "    print(tmp_file, len(operation_data_list))\n",
    "    \n",
    "    \n",
    "    arcing_range_fig_folder = arcing_range_fig_path + re.match('(.*).pkl', tmp_file).group(1) + '/'\n",
    "        \n",
    "    for i in range(len(operation_data_list)):\n",
    "        if i % 100 == 0:\n",
    "            print(i)\n",
    "        for phase in CONST_PARAMS_DICT['three_phase']:\n",
    "            cur_phase_folder = arcing_range_fig_folder + phase + '/'\n",
    "            myUtils.makedirs(cur_phase_folder)\n",
    "            \n",
    "            fig = plt.figure(figsize=(25,10))\n",
    "            U_data = operation_data_list[i]['U' + phase]\n",
    "            I_data = operation_data_list[i]['I' + phase]\n",
    "            arcing_range = findArcingRange(U_data, I_data)\n",
    "            print(arcing_range)\n",
    "            continue\n",
    "            show_data_range = np.arange(arcing_range[0] - 400, arcing_range[1] + 300)\n",
    "            data_range = np.arange(arcing_range[0], arcing_range[1])\n",
    "            plt.plot(U_data[show_data_range])\n",
    "            plt.plot(I_data[show_data_range])\n",
    "            plt.plot(U_data[data_range], 'r')\n",
    "            plt.axvline(arcing_range[0], c = 'g', ls = ':')\n",
    "            plt.axvline(arcing_range[1], c = 'g', ls = ':')\n",
    "            plt.savefig(cur_phase_folder + 'operation_time_' + str(i) + '.png', dpi=100, bbox_inches ='tight' )\n",
    "            plt.close(fig)"
   ]
  },
  {
   "cell_type": "code",
   "execution_count": null,
   "metadata": {},
   "outputs": [],
   "source": [
    "# 三相图片存储\n",
    "for tmp_file in [src_machine_files[4]]:#src_machine_files:\n",
    "    pkl_file = open(src_data_path + tmp_file, 'rb')\n",
    "    #print(pkl_file)\n",
    "    operation_data_list = pickle.load(pkl_file)\n",
    "    pkl_file.close()\n",
    "    print(tmp_file, len(operation_data_list))\n",
    "    \n",
    "    show_data_range = np.arange(5700,6700)\n",
    "    arcing_range_fig_folder = arcing_range_fig_path + re.match('(.*).pkl', tmp_file).group(1) + '/'\n",
    "    cur_phase_folder = arcing_range_fig_folder + '三相/'\n",
    "    myUtils.makedirs(cur_phase_folder)\n",
    "    for i in range(len(operation_data_list)):\n",
    "        if i % 100 == 0:\n",
    "            print(i)\n",
    "        \n",
    "        fig = plt.figure(figsize=(30,30))\n",
    "        for phase_idx, phase in enumerate(CONST_PARAMS_DICT['three_phase']):\n",
    "            plt.subplot(3, 1, phase_idx + 1)\n",
    "            U_data = operation_data_list[i]['U' + phase]\n",
    "            I_data = operation_data_list[i]['I' + phase]\n",
    "            arcing_range = findArcingRange(U_data, I_data)\n",
    "            \n",
    "            data_range = np.arange(arcing_range[0], arcing_range[1])\n",
    "            plt.plot(U_data[show_data_range])\n",
    "            plt.plot(I_data[show_data_range])\n",
    "            plt.plot(U_data[data_range], 'r')\n",
    "            plt.axvline(arcing_range[0], c = 'g', ls = ':')\n",
    "            plt.axvline(arcing_range[1], c = 'g', ls = ':')\n",
    "            plt.title(phase)\n",
    "        plt.savefig(cur_phase_folder + 'operation_time_' + str(i) + '.png', dpi=100, bbox_inches ='tight' )\n",
    "        plt.close(fig)\n",
    "        "
   ]
  },
  {
   "cell_type": "markdown",
   "metadata": {},
   "source": [
    "### 2.2 分阶段特征生成"
   ]
  },
  {
   "cell_type": "markdown",
   "metadata": {},
   "source": [
    "#### 1) 燃弧特征提取"
   ]
  },
  {
   "cell_type": "code",
   "execution_count": 6,
   "metadata": {},
   "outputs": [],
   "source": [
    "# 获得燃弧特征\n",
    "def extractArcingFeatures(U_data, I_data):\n",
    "    # 计算燃弧范围\n",
    "    arcing_range = findArcingRange(U_data, I_data)\n",
    "    #print('======', arcing_range, arcing_range[1] - arcing_range[0])\n",
    "    # 燃弧时长\n",
    "    arcing_duration = max(0, arcing_range[1] - arcing_range[0])\n",
    "    if arcing_duration > 2000:\n",
    "        print('duration>2000')\n",
    "        arcing_duration = 0\n",
    "    if arcing_range[1] == -1:\n",
    "        print(arcing_range)\n",
    "    \n",
    "    # 燃弧能量\n",
    "    U_arcing = np.array(U_data[arcing_range[0] : arcing_range[1]])\n",
    "    I_arcing = np.array(I_data[arcing_range[0] : arcing_range[1]])\n",
    "    arcing_energy = 0 if arcing_duration <= 0 else np.sum([np.abs(U_arcing[i] * I_arcing[i]) for i in range(arcing_duration)])\n",
    "    \n",
    "    # 燃弧电量\n",
    "    arcing_electricity = 0 if arcing_duration <= 0 else np.sum([I_arcing[i] ** 2 for i in range(arcing_duration)])\n",
    "    \n",
    "    # 燃弧功率\n",
    "    arcing_power = arcing_energy / (arcing_duration + 1)\n",
    "    \n",
    "    #print('==', arcing_range, arcing_duration, arcing_range[1] - arcing_range[0])\n",
    "    # 计算燃弧相角\n",
    "    phase_angle_df = extractArcingPhaseAngleFeatures(U_data, arcing_range)\n",
    "    \n",
    "    #print('1', arcing_range, arcing_duration, arcing_range[1] - arcing_range[0])\n",
    "    \n",
    "    # 计算开闸前的异常点位置\n",
    "    #abnormal_points_loc = findAbnormalPoints(U_data, I_data, arcing_range[0])\n",
    "    # 异常点最早出现的位置\n",
    "    #abnormal_start = abnormal_points_loc[-1] if abnormal_points_loc else arcing_range[0]\n",
    "    \n",
    "    #open_duration = arcing_range[1] - abnormal_start\n",
    "    arcing_df = pd.DataFrame([[arcing_range[0], arcing_range[1], arcing_duration, arcing_energy, arcing_electricity, arcing_power]], \n",
    "                             columns = ['arcing_start', 'arcing_end', 'arcing_duration', 'arcing_energy', 'arcing_electricity', 'arcing_power'])\n",
    "    arcing_df = pd.concat([arcing_df, phase_angle_df], axis = 1)\n",
    "    #print(arcing_range[0], arcing_range[1], arcing_duration, arcing_range[1] - arcing_range[0])\n",
    "    return arcing_df\n",
    "\n",
    "\n",
    "# 计算燃弧相角\n",
    "def extractArcingPhaseAngleFeatures(U_data, arcing_range):\n",
    "    \"\"\"\n",
    "    计算燃弧相角\n",
    "    \n",
    "    Args:\n",
    "        U_data:电压数据\n",
    "        arcing_range:燃弧范围\n",
    "            arcing_range[0]:燃弧起始点\n",
    "            arcing_range[1]:燃弧结束点\n",
    "    \n",
    "    Returns:\n",
    "        phase_angle:燃弧相角\n",
    "        phase_angle_range:燃弧相角的计算范围\n",
    "            phase_angle_range[0]:计算起始点\n",
    "            phase_angle_range[1]:计算结束点\n",
    "    \"\"\"\n",
    "    n_points = 10\n",
    "    data_len = len(U_data)\n",
    "    # 燃弧区间异常判断\n",
    "    if arcing_range[1]  == -1:\n",
    "        plt.plot(U_data)\n",
    "        plt.plot(I_data)\n",
    "        return pd.DataFrame([[0, 0, -1, -1]], columns = ['phase_angle_degree', 'phase_angle_radian', 'phase_angle_start', 'phase_angle_end'])\n",
    "    \n",
    "    # 燃弧相角计算的起始位置：与燃弧的起始范围一致\n",
    "    phase_angle_range = [arcing_range[0], arcing_range[1]]\n",
    "    \n",
    "    #确定燃弧相角计算的结束点：电压从零开始上升的位置\n",
    "    for i in range(arcing_range[1] , data_len):\n",
    "        #print(i)\n",
    "        n_Ui_larger_0 = 0\n",
    "        if U_data[i] < CONST_PARAMS_DICT['U_eps']:\n",
    "            for Ui in U_data[i + 1: i + n_points]:\n",
    "                if Ui > CONST_PARAMS_DICT['U_eps']:\n",
    "                    n_Ui_larger_0 += 1\n",
    "            \n",
    "            if n_Ui_larger_0 >= n_points - 3:\n",
    "                phase_angle_range[1] = i\n",
    "                break\n",
    "    \n",
    "    #print('phase:',phase_angle_range)\n",
    "    period = int(1/ CONST_PARAMS_DICT['frequency'])\n",
    "    # 将燃弧相角限定在0-360范围内？？？\n",
    "    phase_angle_range[1] = (phase_angle_range[1] - phase_angle_range[0]) % period + phase_angle_range[0]\n",
    "    phase_angle = max(0, min(1 - 1 / period * (phase_angle_range[1] - phase_angle_range[0]), 1))\n",
    "    phase_angle_degree = 360 * phase_angle\n",
    "    phase_angle_radian = 2 * np.pi * phase_angle\n",
    "    return pd.DataFrame([[phase_angle_degree, phase_angle_radian, phase_angle_range[0], phase_angle_range[1]]], columns = ['phase_angle_degree', 'phase_angle_radian', 'phase_angle_start', 'phase_angle_end'])"
   ]
  },
  {
   "cell_type": "markdown",
   "metadata": {},
   "source": [
    "#### 2) 合闸稳态特征生成"
   ]
  },
  {
   "cell_type": "code",
   "execution_count": 8,
   "metadata": {},
   "outputs": [],
   "source": [
    "# 提取合闸后稳态特征\n",
    "def extractTouchFeatures(U_data, I_data):\n",
    "    # 设置波形截取的起止位置\n",
    "    end_loc = 6000 - int(1 / CONST_PARAMS_DICT['frequency'] * 2)\n",
    "    start_loc = end_loc - int(1 / CONST_PARAMS_DICT['frequency'] * 5)\n",
    "    \n",
    "    # 获取接触时的电流、电压波形\n",
    "    U_part = np.array(U_data[start_loc : end_loc])\n",
    "    I_part = np.array(I_data[start_loc : end_loc])\n",
    "    \n",
    "    #plt.plot(U_data)\n",
    "    #plt.plot(I_data)\n",
    "    #plt.plot(np.arange(start_loc, end_loc), U_part)\n",
    "    \n",
    "    #拟合波形，得到接触电流、接触电压、接触电阻\n",
    "    #params_init = [0, CONST_PARAMS_DICT['frequency'], 0, 0]\n",
    "    U_params = getOptFittingParams(U_part)#, params_init)\n",
    "    I_params = getOptFittingParams(I_part)#, params_init)\n",
    "    \n",
    "    return pd.DataFrame([[np.abs(U_params[0]), np.abs(I_params[0]), np.abs(U_params[0] / (I_params[0] + 0.01))]], columns = ['touch_U', 'touch_I', 'touch_R'])"
   ]
  },
  {
   "cell_type": "markdown",
   "metadata": {},
   "source": [
    "### 2.3 非波形特征整合"
   ]
  },
  {
   "cell_type": "code",
   "execution_count": 7,
   "metadata": {},
   "outputs": [],
   "source": [
    "# 提取单相特征\n",
    "def extract1PhaseFeatures(U_data, I_data, operation_stage = 'total'):\n",
    "    \"\"\"\n",
    "    提取单相特征\n",
    "    \n",
    "    Args:\n",
    "        U_data:单次操作的单相电压数据\n",
    "        I_data:单次操作的单相电流数据\n",
    "        operation_stage:指定所要提取特征的操作阶段。可取值有：'total'表示提取所有阶段的特征（默认）；'arcing'表示提取燃弧阶段特征；'touch'表示提取合闸稳态阶段特征\n",
    "    \n",
    "    Returns:\n",
    "        dataframe类型的特征数据\n",
    "    \"\"\"\n",
    "    if operation_stage == 'arcing':\n",
    "        return extractArcingFeatures(U_data, I_data)\n",
    "    elif operation_stage == 'touch':\n",
    "        return extractTouchFeatures(U_data, I_data)\n",
    "    else:\n",
    "        arcing_df = extractArcingFeatures(U_data, I_data)\n",
    "        touch_df = extractTouchFeatures(U_data, I_data)\n",
    "        return pd.concat([arcing_df, touch_df], axis = 1, sort = False)\n",
    "\n",
    "# 提取三相特征\n",
    "def extract3phaseFeatures(operation_data_list, operation_stage):\n",
    "    machine_ftr_df = pd.DataFrame()\n",
    "    for i, operation_data_list in enumerate(operation_data_list):\n",
    "            \n",
    "        operation_ftr_df = pd.DataFrame()\n",
    "        for phase in CONST_PARAMS_DICT['three_phase']:\n",
    "            U_data = operation_data_list['U' + phase]\n",
    "            I_data = operation_data_list['I' + phase]\n",
    "            cur_ftr_df = extract1PhaseFeatures(U_data, I_data, operation_stage)\n",
    "            \n",
    "            # 指定列名为某相的列名\n",
    "            cur_ftr_cols = [phase + '_' + col for col in cur_ftr_df.columns.tolist()]\n",
    "            cur_ftr_df.columns = cur_ftr_cols\n",
    "            \n",
    "            operation_ftr_df = pd.concat([operation_ftr_df, cur_ftr_df], axis = 1, sort = False)\n",
    "        \n",
    "        if i % 100 == 0:\n",
    "            print(i)\n",
    "        machine_ftr_df = machine_ftr_df.append(operation_ftr_df, ignore_index = True)\n",
    "        \n",
    "    return machine_ftr_df"
   ]
  },
  {
   "cell_type": "markdown",
   "metadata": {},
   "source": [
    "#### 提取并保存特征"
   ]
  },
  {
   "cell_type": "code",
   "execution_count": 8,
   "metadata": {},
   "outputs": [
    {
     "name": "stdout",
     "output_type": "stream",
     "text": [
      "4.pkl 186\n",
      "../data/2_features/arcing/ already exist.\n",
      "0\n",
      "100\n",
      "用时： 254.92497324943542\n",
      "5.pkl 2971\n",
      "../data/2_features/arcing/ already exist.\n",
      "0\n",
      "100\n",
      "200\n",
      "300\n",
      "400\n",
      "500\n",
      "600\n",
      "700\n",
      "800\n",
      "900\n",
      "1000\n",
      "1100\n",
      "1200\n",
      "1300\n",
      "1400\n",
      "1500\n",
      "1600\n",
      "1700\n",
      "1800\n",
      "1900\n",
      "2000\n",
      "2100\n",
      "2200\n",
      "2300\n",
      "2400\n",
      "2500\n",
      "2600\n",
      "2700\n",
      "2800\n",
      "2900\n",
      "用时： 3437.8266990184784\n",
      "6.pkl 2159\n",
      "../data/2_features/arcing/ already exist.\n",
      "0\n",
      "100\n",
      "200\n",
      "300\n",
      "400\n",
      "500\n",
      "600\n",
      "700\n",
      "800\n",
      "900\n",
      "1000\n",
      "1100\n",
      "1200\n",
      "1300\n",
      "1400\n",
      "1500\n",
      "1600\n",
      "1700\n",
      "1800\n",
      "1900\n",
      "2000\n",
      "2100\n",
      "用时： 2543.643310546875\n",
      "7.pkl 4522\n",
      "../data/2_features/arcing/ already exist.\n",
      "0\n",
      "100\n",
      "200\n",
      "300\n",
      "400\n",
      "500\n",
      "600\n",
      "700\n",
      "800\n",
      "900\n",
      "1000\n",
      "1100\n",
      "1200\n",
      "1300\n",
      "1400\n",
      "1500\n",
      "1600\n",
      "1700\n",
      "1800\n",
      "1900\n",
      "2000\n",
      "2100\n",
      "2200\n",
      "2300\n",
      "2400\n",
      "2500\n",
      "2600\n",
      "2700\n",
      "2800\n",
      "2900\n",
      "3000\n",
      "3100\n",
      "3200\n",
      "3300\n",
      "3400\n",
      "3500\n",
      "3600\n",
      "3700\n",
      "3800\n",
      "3900\n",
      "4000\n",
      "4100\n",
      "4200\n",
      "4300\n",
      "4400\n",
      "4500\n",
      "用时： 4943.475087881088\n",
      "8.pkl 1622\n",
      "../data/2_features/arcing/ already exist.\n",
      "0\n",
      "100\n",
      "200\n",
      "300\n",
      "400\n",
      "500\n",
      "600\n",
      "700\n",
      "800\n",
      "900\n",
      "1000\n",
      "1100\n",
      "1200\n",
      "1300\n",
      "1400\n",
      "1500\n",
      "1600\n",
      "用时： 1813.3839089870453\n",
      "9.pkl 1393\n",
      "../data/2_features/arcing/ already exist.\n",
      "0\n",
      "100\n",
      "200\n",
      "300\n",
      "400\n",
      "500\n",
      "600\n",
      "700\n",
      "800\n",
      "900\n",
      "1000\n",
      "1100\n",
      "1200\n",
      "1300\n",
      "用时： 1565.2187824249268\n"
     ]
    }
   ],
   "source": [
    "for tmp_file in src_machine_files[4:]:\n",
    "    t_start = time.time()\n",
    "    machine_id = re.match('(.*).pkl', tmp_file).group(1) \n",
    "    pkl_file = open(src_data_path + tmp_file, 'rb')\n",
    "    operation_data_list = pickle.load(pkl_file)\n",
    "    pkl_file.close()\n",
    "    print(tmp_file, len(operation_data_list))\n",
    "    \n",
    "    operation_stage = 'arcing'\n",
    "    ftr_path = root_data_path + '2_features/' + operation_stage + '/'\n",
    "    myUtils.makedirs(ftr_path)\n",
    "    machine_ftr_df = extract3phaseFeatures(operation_data_list, operation_stage)\n",
    "    #print(machine_ftr_df.head())\n",
    "    machine_ftr_df.to_csv(ftr_path + machine_id + '.csv', index = False, header = True)\n",
    "    \n",
    "    t_end = time.time()\n",
    "    print('用时：', (t_end - t_start))"
   ]
  },
  {
   "cell_type": "code",
   "execution_count": null,
   "metadata": {},
   "outputs": [],
   "source": []
  }
 ],
 "metadata": {
  "kernelspec": {
   "display_name": "Python 3",
   "language": "python",
   "name": "python3"
  },
  "language_info": {
   "codemirror_mode": {
    "name": "ipython",
    "version": 3
   },
   "file_extension": ".py",
   "mimetype": "text/x-python",
   "name": "python",
   "nbconvert_exporter": "python",
   "pygments_lexer": "ipython3",
   "version": "3.7.3"
  }
 },
 "nbformat": 4,
 "nbformat_minor": 4
}

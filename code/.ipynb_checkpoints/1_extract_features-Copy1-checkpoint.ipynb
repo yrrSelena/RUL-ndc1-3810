{
 "cells": [
  {
   "cell_type": "markdown",
   "metadata": {},
   "source": [
    "# 燃弧特征提取\n",
    "燃弧时长、能量、电量、功率"
   ]
  },
  {
   "cell_type": "code",
   "execution_count": 1,
   "metadata": {},
   "outputs": [],
   "source": [
    "import re\n",
    "import os\n",
    "import time\n",
    "import csv\n",
    "import math\n",
    "import pickle\n",
    "import pandas as pd\n",
    "import numpy as np\n",
    "import matplotlib.pyplot as plt"
   ]
  },
  {
   "cell_type": "markdown",
   "metadata": {},
   "source": [
    "### 数据读取\n",
    "读取设备操作文件"
   ]
  },
  {
   "cell_type": "code",
   "execution_count": 2,
   "metadata": {},
   "outputs": [
    {
     "data": {
      "text/plain": [
       "['1.pkl',\n",
       " '10.pkl',\n",
       " '2.pkl',\n",
       " '3.pkl',\n",
       " '4.pkl',\n",
       " '5.pkl',\n",
       " '6.pkl',\n",
       " '7.pkl',\n",
       " '8.pkl',\n",
       " '9.pkl']"
      ]
     },
     "execution_count": 2,
     "metadata": {},
     "output_type": "execute_result"
    }
   ],
   "source": [
    "root_data_path = '../data/'\n",
    "processed_data_path = root_data_path + '1_processed_data/'\n",
    "processed_machine_files =os.listdir(processed_data_path)\n",
    "processed_machine_files"
   ]
  },
  {
   "cell_type": "code",
   "execution_count": 6,
   "metadata": {},
   "outputs": [
    {
     "name": "stdout",
     "output_type": "stream",
     "text": [
      "<_io.BufferedReader name='../data/1_processed_data/1.pkl'>\n",
      "1.pkl 1131\n"
     ]
    }
   ],
   "source": [
    "for tmp_file in [processed_machine_files[0]]:\n",
    "    pkl_file = open(processed_data_path + tmp_file, 'rb')\n",
    "    print(pkl_file)\n",
    "    operation_data = pickle.load(pkl_file)\n",
    "    pkl_file.close()\n",
    "    print(tmp_file, len(operation_data))"
   ]
  },
  {
   "cell_type": "code",
   "execution_count": 3,
   "metadata": {},
   "outputs": [],
   "source": [
    "CONST_PARAMS_DICT = {\n",
    "    'frequency': 1 / 200, \n",
    "    'U_amplitude': 421 / np.sqrt(3) * np.sqrt(2), #424,\n",
    "    'I_amplitude': 228,\n",
    "    'U_eps': 20,\n",
    "    'I_eps': 5,\n",
    "}"
   ]
  },
  {
   "cell_type": "markdown",
   "metadata": {},
   "source": [
    "#### 拟合正弦函数"
   ]
  },
  {
   "cell_type": "code",
   "execution_count": 4,
   "metadata": {},
   "outputs": [],
   "source": [
    "from scipy.optimize import leastsq\n",
    "\n",
    "# 根据x和参数输出sin函数值\n",
    "def calSinByParams(x, params):\n",
    "    A, f, theta_x, theta_y = params \n",
    "    return A * np.sin(2 * np.pi * f * x + theta_x) + theta_y\n",
    "\n",
    "def calFittingResidual(params, x, y_real):\n",
    "    return y_real - calSinByParams(x, params)\n",
    "\n",
    "def getOptFittingParams(U_data, params_init):\n",
    "    '''\n",
    "    params_init:初始化拟合参数 \n",
    "        params_init[0]: A 振幅\n",
    "        params_init[1]: f 频率\n",
    "        params_init[2]: theta_x 偏移\n",
    "        params_init[3]: theta_y \n",
    "    '''\n",
    "\n",
    "    # 待拟合数据\n",
    "    X = np.arange(len(U_data))\n",
    "    Y = np.array(U_data)\n",
    "    \n",
    "    # 最小二乘得到拟合最优解\n",
    "    #params = [params_init['amplitude'], params_init['frequency'], params_init['theta_x'], params_init['theta_y']]\n",
    "    params_opt, _ = leastsq(calFittingResidual, params_init, args = (X, Y))\n",
    "    \n",
    "    return params_opt"
   ]
  },
  {
   "cell_type": "markdown",
   "metadata": {},
   "source": [
    "#### 计算开关开闸范围、燃弧范围"
   ]
  },
  {
   "cell_type": "code",
   "execution_count": 2,
   "metadata": {},
   "outputs": [
    {
     "data": {
      "text/plain": [
       "\"\\n# 计算开闸区间\\ndef calCloseVoltageFittingParams(U_part):\\n    params_init_close = [0, CONST_PARAMS_DICT['frequency'], 0, 0]\\n    #{'amplitude': 0, 'frequency': CONST_PARAMS_DICT['frequency'], 'theta_x': 0, 'theta_y': 0}\\n    params_opt_close = getOptFittingParams(U_part, params_init_close)\\n    return params_opt_close\\n\\ndef findAbnormalPoints(U_data, I_data, arcing_start_loc):\\n    end_loc = arcing_start_loc - int(1 / CONST_PARAMS_DICT['frequency'] * 2)\\n    start_loc = end_loc - int(1 / CONST_PARAMS_DICT['frequency'] * 2)\\n    U_part = np.array(U_data[start_loc : end_loc])\\n    params_opt_close = calCloseVoltageFittingParams(U_part)\\n    #print(params_opt_close)\\n    \\n    U_part = U_data[start_loc : arcing_start_loc]\\n    U_real = np.array(U_part)\\n    U_pred = calSinByParams(np.arange(len(U_real)), params_opt_close)\\n    #print('U_real:',U_real)\\n    #print('U_pred:', U_pred)\\n    \\n    U_residual = np.abs(U_real - U_pred)\\n    #U_residual = pd.DataFrame(np.abs(U_real - U_pred), index = U_part.index)\\n    residual_threshold = 15 #2 * np.abs(params_opt_close[0])\\n    #print(U_residual)\\n    \\n    abnormal_points_loc = []\\n    for i in range(len(U_residual) - 1, -1, -1):\\n        if U_residual[i] > residual_threshold:\\n            abnormal_points_loc += [i + start_loc]\\n            #print(U_residual.loc[idx], idx)\\n    #print('abnormal_points_loc',abnormal_points_loc)        \\n    return abnormal_points_loc\\n\""
      ]
     },
     "execution_count": 2,
     "metadata": {},
     "output_type": "execute_result"
    }
   ],
   "source": [
    "# 计算燃弧区间\n",
    "def findArcingRange(U_data, I_data):\n",
    "    arcing_range = [-1, -1]\n",
    "    n_points = 10\n",
    "    data_len = len(U_data)\n",
    "    # 确定燃弧结束位置：电流为0时表示燃弧结束（结束点后n_points对应的电流均小于电流阈值，结束点前n_points对应的电流均大于电流阈值）\n",
    "    for i in range(data_len - n_points - 1, 0, -1):\n",
    "        #                        #时刻在[i - n_points,i]范围内的电流都大于0                                                         # 时刻在[i + 1, i + n_points]范围内的电流都接近0\n",
    "        if i - n_points >= 0 and all([1 if np.abs(Ii) > CONST_PARAMS_DICT['I_eps'] else 0 for Ii in I_data[i - n_points : i]]) and all([1 if np.abs(Ii) < CONST_PARAMS_DICT['I_eps'] else 0 for Ii in I_data[i + 1 : i + n_points]]):\n",
    "            arcing_range[1] = i\n",
    "            break\n",
    "        \n",
    "        \n",
    "     # 确定燃弧开始位置\n",
    "    for i in range(arcing_range[1], 0, -1):\n",
    "        if np.abs(U_data[i]) < CONST_PARAMS_DICT['U_eps']:\n",
    "            if i - n_points > 0 and all([1 if np.abs(Ui) < CONST_PARAMS_DICT['U_eps'] else 0 for Ui in U_data[i - n_points : i]]):#all(U_data[i - n_points : i]):\n",
    "                arcing_range[0] = i\n",
    "                break    \n",
    "        \n",
    "    return arcing_range\n",
    "\n",
    "'''\n",
    "# 计算开闸区间\n",
    "def calCloseVoltageFittingParams(U_part):\n",
    "    params_init_close = [0, CONST_PARAMS_DICT['frequency'], 0, 0]\n",
    "    #{'amplitude': 0, 'frequency': CONST_PARAMS_DICT['frequency'], 'theta_x': 0, 'theta_y': 0}\n",
    "    params_opt_close = getOptFittingParams(U_part, params_init_close)\n",
    "    return params_opt_close\n",
    "\n",
    "def findAbnormalPoints(U_data, I_data, arcing_start_loc):\n",
    "    end_loc = arcing_start_loc - int(1 / CONST_PARAMS_DICT['frequency'] * 2)\n",
    "    start_loc = end_loc - int(1 / CONST_PARAMS_DICT['frequency'] * 2)\n",
    "    U_part = np.array(U_data[start_loc : end_loc])\n",
    "    params_opt_close = calCloseVoltageFittingParams(U_part)\n",
    "    #print(params_opt_close)\n",
    "    \n",
    "    U_part = U_data[start_loc : arcing_start_loc]\n",
    "    U_real = np.array(U_part)\n",
    "    U_pred = calSinByParams(np.arange(len(U_real)), params_opt_close)\n",
    "    #print('U_real:',U_real)\n",
    "    #print('U_pred:', U_pred)\n",
    "    \n",
    "    U_residual = np.abs(U_real - U_pred)\n",
    "    #U_residual = pd.DataFrame(np.abs(U_real - U_pred), index = U_part.index)\n",
    "    residual_threshold = 15 #2 * np.abs(params_opt_close[0])\n",
    "    #print(U_residual)\n",
    "    \n",
    "    abnormal_points_loc = []\n",
    "    for i in range(len(U_residual) - 1, -1, -1):\n",
    "        if U_residual[i] > residual_threshold:\n",
    "            abnormal_points_loc += [i + start_loc]\n",
    "            #print(U_residual.loc[idx], idx)\n",
    "    #print('abnormal_points_loc',abnormal_points_loc)        \n",
    "    return abnormal_points_loc\n",
    "'''"
   ]
  },
  {
   "cell_type": "code",
   "execution_count": 13,
   "metadata": {},
   "outputs": [
    {
     "name": "stdout",
     "output_type": "stream",
     "text": [
      "test\n"
     ]
    }
   ],
   "source": [
    "arcing_range = findArcingRange(U_data, I_data)\n",
    "findAbnormalPoints(U_data, I_data, arcing_range[1])\n",
    "print('test')"
   ]
  },
  {
   "cell_type": "markdown",
   "metadata": {},
   "source": [
    "### 燃弧特征提取"
   ]
  },
  {
   "cell_type": "code",
   "execution_count": 9,
   "metadata": {},
   "outputs": [],
   "source": [
    "# 获得燃弧特征\n",
    "def extractSinglePhaseFeatures(U_data, I_data):\n",
    "    # 计算燃弧范围\n",
    "    arcing_range = findArcingRange(U_data, I_data)\n",
    "    # 燃弧时长\n",
    "    arcing_duration = max(0, arcing_range[1] - arcing_range[0])\n",
    "    if arcing_duration > 2000:\n",
    "        arcing_duration = 0\n",
    "    \n",
    "    if arcing_range[1] == -1:\n",
    "        print(arcing_range)\n",
    "    \n",
    "    # 燃弧能量\n",
    "    U_arcing = np.array(U_data[arcing_range[0] : arcing_range[1]])\n",
    "    I_arcing = np.array(I_data[arcing_range[0] : arcing_range[1]])\n",
    "    arcing_energy = 0 if arcing_duration <= 0 else np.sum([np.abs(U_arcing[i] * I_arcing[i]) for i in range(arcing_duration)])\n",
    "    \n",
    "    # 燃弧电量\n",
    "    arcing_electricity = 0 if arcing_duration <= 0 else np.sum([I_arcing[i] ** 2 for i in range(arcing_duration)])\n",
    "    \n",
    "    # 燃弧功率\n",
    "    arcing_power = arcing_energy / (arcing_duration + 1)\n",
    "    \n",
    "    # 计算开闸前的异常点位置\n",
    "    #abnormal_points_loc = findAbnormalPoints(U_data, I_data, arcing_range[0])\n",
    "    # 异常点最早出现的位置\n",
    "    #abnormal_start = abnormal_points_loc[-1] if abnormal_points_loc else arcing_range[0]\n",
    "    \n",
    "    #open_duration = arcing_range[1] - abnormal_start\n",
    "    \n",
    "    #tot_ftrs = [abnormal_start, open_duration] + arcing_range + [arcing_duration, arcing_energy, arcing_electricity, arcing_power] \n",
    "    tot_ftrs = arcing_range + [arcing_duration, arcing_energy, arcing_electricity, arcing_power] \n",
    "    return tot_ftrs"
   ]
  },
  {
   "cell_type": "code",
   "execution_count": 10,
   "metadata": {},
   "outputs": [],
   "source": [
    "# 提取三相特征\n",
    "three_phase = ['A', 'B', 'C']\n",
    "one_phase_ftr_columns = ['arcing_' + ftr for ftr in ['start', 'end', 'duration', 'energy', 'electricity', 'power']]\n",
    "#one_phase_ftr_columns = ['abnormal_start', 'open_duration'] + ['arcing_' + ftr for ftr in ['start', 'end', 'duration', 'energy', 'electricity', 'power']]\n",
    "three_phase_ftr_columns = [ t +'_' + ftr for t in three_phase for ftr in one_phase_ftr_columns]\n",
    "\n",
    "def extract3phaseFeatures(operation_data):\n",
    "    machine_info_df = pd.DataFrame(columns = three_phase_ftr_columns) \n",
    "    #print(three_phase_ftr_columns)\n",
    "    t_start = time.time()\n",
    "    for i, tmp_operation_data in enumerate(operation_data):\n",
    "        if i % 100 == 0:\n",
    "            print(i)\n",
    "        tmp_ftrs = []\n",
    "        for tmp_phase in three_phase:\n",
    "            U_data = tmp_operation_data['U' + tmp_phase]\n",
    "            I_data = tmp_operation_data['I' + tmp_phase]\n",
    "            tmp_ftrs += extractSinglePhaseFeatures(U_data, I_data)\n",
    "        if tmp_ftrs[3] < 0 or tmp_ftrs[9] < 0 or tmp_ftrs[15] < 0:\n",
    "            print(i, tmp_ftrs)\n",
    "        machine_info_df = machine_info_df.append(pd.DataFrame([tmp_ftrs], columns = three_phase_ftr_columns), ignore_index = True)\n",
    "        \n",
    "    t_end = time.time()\n",
    "    return machine_info_df"
   ]
  },
  {
   "cell_type": "markdown",
   "metadata": {},
   "source": [
    "#### 提取并保存燃弧特征"
   ]
  },
  {
   "cell_type": "code",
   "execution_count": 11,
   "metadata": {},
   "outputs": [],
   "source": [
    "arcing_data_path = root_data_path + '2_arcing_data/'\n",
    "if not os.path.exists(arcing_data_path):\n",
    "    os.makedirs(arcing_data_path)"
   ]
  },
  {
   "cell_type": "code",
   "execution_count": 13,
   "metadata": {
    "collapsed": true,
    "jupyter": {
     "outputs_hidden": true
    }
   },
   "outputs": [
    {
     "name": "stdout",
     "output_type": "stream",
     "text": [
      "2.pkl 1753\n",
      "Empty DataFrame\n",
      "Columns: []\n",
      "Index: []\n",
      "0\n",
      "100\n",
      "200\n",
      "300\n",
      "400\n",
      "500\n",
      "600\n",
      "700\n",
      "800\n",
      "900\n",
      "1000\n",
      "1100\n",
      "1200\n",
      "1300\n",
      "1400\n",
      "1500\n",
      "1600\n",
      "1700\n",
      "[-1, -1]\n",
      "[-1, -1]\n",
      "       A_arcing_energy  A_arcing_electricity  A_arcing_power  B_arcing_energy  \\\n",
      "count     1.753000e+03          1.753000e+03     1753.000000     1.753000e+03   \n",
      "mean      4.523519e+05          1.427923e+06     7445.186512     5.744496e+05   \n",
      "std       3.995519e+05          1.103768e+06     4148.392055     3.738474e+05   \n",
      "min       0.000000e+00          0.000000e+00        0.000000     9.141801e+00   \n",
      "25%       7.425299e+04          2.958654e+05     3586.615447     3.838304e+05   \n",
      "50%       4.272477e+05          1.672579e+06     8763.435512     5.744430e+05   \n",
      "75%       7.355820e+05          2.102160e+06    10868.793754     7.068370e+05   \n",
      "max       1.837395e+06          3.943531e+06    17323.048577     1.684441e+06   \n",
      "\n",
      "       B_arcing_electricity  B_arcing_power  C_arcing_energy  \\\n",
      "count          1.753000e+03     1753.000000     1.753000e+03   \n",
      "mean           1.914084e+06     9216.808522     5.898274e+05   \n",
      "std            1.040113e+06     3887.628035     3.172329e+05   \n",
      "min            4.633525e+01        4.570901     0.000000e+00   \n",
      "25%            1.673282e+06     8486.609481     4.551545e+05   \n",
      "50%            1.993150e+06    10003.462289     6.279739e+05   \n",
      "75%            2.511207e+06    11316.741745     7.864750e+05   \n",
      "max            4.359552e+06    17141.291147     1.775302e+06   \n",
      "\n",
      "       C_arcing_electricity  C_arcing_power  \n",
      "count          1.753000e+03     1753.000000  \n",
      "mean           2.251096e+06     9672.379339  \n",
      "std            1.128262e+06     3652.512280  \n",
      "min            0.000000e+00        0.000000  \n",
      "25%            1.838648e+06     8977.989548  \n",
      "50%            2.302166e+06    10596.984987  \n",
      "75%            3.213870e+06    11946.636309  \n",
      "max            4.360534e+06    16296.113395  \n",
      "4.pkl 190\n",
      "Empty DataFrame\n",
      "Columns: []\n",
      "Index: []\n",
      "0\n",
      "100\n",
      "[-1, -1]\n",
      "[-1, -1]\n",
      "[-1, -1]\n",
      "       A_arcing_energy  A_arcing_electricity  A_arcing_power  B_arcing_energy  \\\n",
      "count     1.900000e+02          1.900000e+02      190.000000     1.900000e+02   \n",
      "mean      3.931781e+05          1.471365e+06     6965.464201     4.952441e+05   \n",
      "std       3.538886e+05          1.247480e+06     3770.716592     3.366563e+05   \n",
      "min       0.000000e+00          0.000000e+00        0.000000     1.258657e+02   \n",
      "25%       7.555434e+04          2.803447e+05     3585.434231     1.644565e+05   \n",
      "50%       2.190108e+05          1.120053e+06     6452.087110     5.466664e+05   \n",
      "75%       6.490441e+05          2.312822e+06    10491.593734     6.767556e+05   \n",
      "max       1.218410e+06          3.932033e+06    14271.127317     1.384756e+06   \n",
      "\n",
      "       B_arcing_electricity  B_arcing_power  C_arcing_energy  \\\n",
      "count          1.900000e+02      190.000000     1.900000e+02   \n",
      "mean           1.708406e+06     8106.005707     4.934208e+05   \n",
      "std            1.032888e+06     3730.054916     2.204592e+05   \n",
      "min            1.002001e+02       62.932870     0.000000e+00   \n",
      "25%            7.722604e+05     5544.039698     3.949236e+05   \n",
      "50%            2.021796e+06     9481.681711     5.049793e+05   \n",
      "75%            2.162969e+06    10347.714313     6.183410e+05   \n",
      "max            3.859659e+06    14130.159249     1.602582e+06   \n",
      "\n",
      "       C_arcing_electricity  C_arcing_power  \n",
      "count          1.900000e+02      190.000000  \n",
      "mean           2.077225e+06     8680.717318  \n",
      "std            8.544486e+05     2687.411637  \n",
      "min            0.000000e+00        0.000000  \n",
      "25%            1.747514e+06     8165.641838  \n",
      "50%            2.014296e+06     9191.103241  \n",
      "75%            2.660559e+06    10050.675504  \n",
      "max            3.733138e+06    14601.301655  \n"
     ]
    }
   ],
   "source": [
    "for tmp_file in [processed_machine_files[2],processed_machine_files[4]]:\n",
    "    pkl_file = open(processed_data_path + tmp_file, 'rb')\n",
    "    operation_data = pickle.load(pkl_file)\n",
    "    pkl_file.close()\n",
    "    print(tmp_file, len(operation_data))\n",
    "    machine_info_df = pd.DataFrame()\n",
    "    print(machine_info_df)\n",
    "    machine_info_df = extract3phaseFeatures(operation_data)\n",
    "    print(machine_info_df.describe())\n",
    "    machine_info_df.to_csv(arcing_data_path + re.match('(.*).pkl', tmp_file).group(1) + '.csv', index = False, header = True)"
   ]
  },
  {
   "cell_type": "code",
   "execution_count": null,
   "metadata": {},
   "outputs": [],
   "source": []
  },
  {
   "cell_type": "code",
   "execution_count": null,
   "metadata": {},
   "outputs": [],
   "source": []
  }
 ],
 "metadata": {
  "kernelspec": {
   "display_name": "Python 3",
   "language": "python",
   "name": "python3"
  },
  "language_info": {
   "codemirror_mode": {
    "name": "ipython",
    "version": 3
   },
   "file_extension": ".py",
   "mimetype": "text/x-python",
   "name": "python",
   "nbconvert_exporter": "python",
   "pygments_lexer": "ipython3",
   "version": "3.7.3"
  }
 },
 "nbformat": 4,
 "nbformat_minor": 4
}
